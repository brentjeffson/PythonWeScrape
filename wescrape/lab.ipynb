{
 "cells": [
  {
   "cell_type": "code",
   "execution_count": 5,
   "id": "clean-helen",
   "metadata": {},
   "outputs": [],
   "source": [
    "import importlib"
   ]
  },
  {
   "cell_type": "code",
   "execution_count": 22,
   "id": "monthly-cradle",
   "metadata": {},
   "outputs": [],
   "source": [
    "SOURCE_NAME = 'SampleClass'\n",
    "class SampleClass:\n",
    "    pass\n",
    "name = [d for d in dir() if str(d).isupper()]"
   ]
  },
  {
   "cell_type": "code",
   "execution_count": 24,
   "id": "significant-sector",
   "metadata": {},
   "outputs": [
    {
     "data": {
      "text/plain": [
       "['SOURCE_NAME']"
      ]
     },
     "execution_count": 24,
     "metadata": {},
     "output_type": "execute_result"
    }
   ],
   "source": [
    "name"
   ]
  },
  {
   "cell_type": "code",
   "execution_count": null,
   "id": "dependent-train",
   "metadata": {},
   "outputs": [],
   "source": []
  }
 ],
 "metadata": {
  "kernelspec": {
   "display_name": "Python 3",
   "language": "python",
   "name": "python3"
  },
  "language_info": {
   "codemirror_mode": {
    "name": "ipython",
    "version": 3
   },
   "file_extension": ".py",
   "mimetype": "text/x-python",
   "name": "python",
   "nbconvert_exporter": "python",
   "pygments_lexer": "ipython3",
   "version": "3.9.1"
  }
 },
 "nbformat": 4,
 "nbformat_minor": 5
}
